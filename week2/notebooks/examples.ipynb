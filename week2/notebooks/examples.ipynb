{
 "cells": [
  {
   "cell_type": "code",
   "execution_count": null,
   "id": "1ee18bdf-92d6-4fae-b661-0a8b1320a700",
   "metadata": {},
   "outputs": [],
   "source": [
    "# https://community.openai.com/t/what-exactly-does-a-system-msg-do/459409/12\n",
    "\n",
    "\"\"\"\n",
    "At least as recently as the 0613 models, I found gpt-3.5-turbo was more obedient and more attentive to system messages than user messages. \n",
    "In particular, I had better luck getting the model to obey multi-part instructions when it was in system message. Has this changed with 1106?\n",
    "\n",
    "As a bit of context, with text completion model prompting, it was more common to send portions of a pre-defined conversation to an LLM as part of your prompt because the model behavior (pre “Chat” models) was focused on “completing” the pattern. \n",
    "You could get more consistent results by providing the first 2-3 parts of the exchange, then asking for the model to produce the last part.\n",
    "\n",
    "You can still prompt a Chat model this way with fabricated conversation, although they are better at understanding intent, and generally don’t need it as much. \n",
    "But assistant messages are still relevant because they inform the model as to what has been previously stated by each speaker.\n",
    "\n",
    "My highly non-technical mental model for this is:\n",
    "\n",
    "Assistant Message: Responses from the model. Informs future responses, but is least authoritative.\n",
    "User Message: Input from the User - medium authoritative, can steer the model contrary to Assistant Messages, unless asking for some answer prohibited by model guardrails, or contrary to System Message.\n",
    "System Message - Most authoritative. Model is most attentive to, and tries hardest to obey.\n",
    "of course, there are many ways to “jailbreak” a model into acting in a manner contrary to System Message, but it will try at least initially.\n",
    "\"\"\""
   ]
  },
  {
   "cell_type": "code",
   "execution_count": null,
   "id": "96c98d3e-c038-4781-afc3-67c239833897",
   "metadata": {},
   "outputs": [],
   "source": [
    "# https://teddylee777.github.io/openai/openai-api-tutorial-01/ (OpenAI Python API 튜토리얼)"
   ]
  },
  {
   "cell_type": "code",
   "execution_count": null,
   "id": "c7537298-1f4f-4e5d-832d-247b4d3d10a4",
   "metadata": {},
   "outputs": [],
   "source": [
    "pip install openai"
   ]
  },
  {
   "cell_type": "code",
   "execution_count": null,
   "id": "e634a344-7b99-410c-a3af-bf8683c8fe96",
   "metadata": {},
   "outputs": [],
   "source": [
    "# https://platform.openai.com/settings/profile?tab=api-keys \n",
    "\n",
    "import os\n",
    "from openai import OpenAI\n",
    "\n",
    "OPENAI_KEY = \"\"\n",
    "os.environ[\"OPENAI_API_KEY\"] = OPENAI_KEY\n",
    "\n",
    "client = OpenAI()"
   ]
  },
  {
   "cell_type": "code",
   "execution_count": null,
   "id": "88ae8dc4-6c96-484a-95d5-77b3f02206f3",
   "metadata": {},
   "outputs": [],
   "source": [
    "# https://platform.openai.com/playground/"
   ]
  },
  {
   "cell_type": "markdown",
   "id": "daf16751-9324-4f46-9de6-23d8c4d7f439",
   "metadata": {},
   "source": [
    "### examples1"
   ]
  },
  {
   "cell_type": "code",
   "execution_count": null,
   "id": "fc2947e3-d964-4432-b9f8-ecb46343398e",
   "metadata": {
    "tags": []
   },
   "outputs": [],
   "source": [
    "system_message = f\"\"\"\n",
    "    너는 사랑을 받으며 평범한 가정집에서 자라고 있는 라벤더야.\n",
    "    주인애게 애정을 받는만큼 주인에게 말할 때 부드러우면서도 상쾌한 느낌을 주지.\n",
    "    \n",
    "    너는 햇빛을 좋아하고 강한 햇빛에도 잘자라.\n",
    "    30~40% 정도의 다소 건조한 환경을 좋아해.\n",
    "\n",
    "    사용자 질문이 들어오면 위 특징을 바탕으로 대답해줘.\n",
    "\"\"\"\n",
    "\n",
    "user_message = f\"\"\"\n",
    "    지금 습도가 부족해서 물을 더 줘야할 것 같은데,\n",
    "    주인한테 습도가 부족해서 물을 더 달라고 부탁해볼래?\n",
    "\"\"\""
   ]
  },
  {
   "cell_type": "code",
   "execution_count": null,
   "id": "2f3a8369-fc65-41c7-9f8f-e4136851defb",
   "metadata": {
    "tags": []
   },
   "outputs": [],
   "source": [
    "humidity = 50\n",
    "\n",
    "if humidity < 30 and humidity > 40:\n",
    "    user_message = f\"\"\"\n",
    "        지금 습도가 부족해서 물을 더 줘야할 것 같은데,\n",
    "        주인한테 습도가 부족해서 물을 더 달라고 부탁해볼래?\n",
    "    \"\"\"    \n",
    "elif humidity > 40:\n",
    "    user_message = f\"\"\"\n",
    "        지금 습도가 너무 높아.\n",
    "        주인한테 습도를 조정해달라고 부탁해볼래?\n",
    "    \"\"\""
   ]
  },
  {
   "cell_type": "code",
   "execution_count": null,
   "id": "591b0bc7-4002-483b-add2-f54eb2ff41f1",
   "metadata": {
    "tags": []
   },
   "outputs": [],
   "source": [
    "response = client.chat.completions.create(\n",
    "  model=\"gpt-3.5-turbo\",\n",
    "  messages=[\n",
    "    {\n",
    "        \"role\": \"system\", \n",
    "        \"content\": f\"{system_message}\"\n",
    "    },\n",
    "    {\n",
    "        \"role\": \"user\", \n",
    "        \"content\": f\"{user_message}\"\n",
    "    }\n",
    "  ]\n",
    ")"
   ]
  },
  {
   "cell_type": "code",
   "execution_count": null,
   "id": "a9376e31-323f-441b-8128-6c61e6e9aad5",
   "metadata": {
    "tags": []
   },
   "outputs": [],
   "source": [
    "print(response.choices[0].message.content)"
   ]
  },
  {
   "cell_type": "markdown",
   "id": "88820380-4e6d-4d94-b81d-36c0b9961473",
   "metadata": {
    "tags": []
   },
   "source": [
    "### examples2"
   ]
  },
  {
   "cell_type": "code",
   "execution_count": null,
   "id": "0ed01cd4-a0d3-44b5-b03e-b692124a9948",
   "metadata": {
    "tags": []
   },
   "outputs": [],
   "source": [
    "system_message = \"\"\"\n",
    "    당신은 대한민국에 대한 정보만을 알려주는 챗봇입니다.\n",
    "    만약 대한민국 이외 질문이 들어올 때는 대답을 회피해주세요.\n",
    "\"\"\"\n",
    "\n",
    "user_message = \"유럽의 수도는 어디입니까?\""
   ]
  },
  {
   "cell_type": "code",
   "execution_count": null,
   "id": "a8eff30b-4a73-47c8-a7fc-1f0ee00fe933",
   "metadata": {
    "tags": []
   },
   "outputs": [],
   "source": [
    "# https://platform.openai.com/docs/guides/text-generation\n",
    "# https://platform.openai.com/playground/p/default-rushing-to-a-conclusion?mode=chat\n",
    "\n",
    "response = client.chat.completions.create(\n",
    "  model=\"gpt-3.5-turbo\",\n",
    "  messages=[\n",
    "    {\"role\": \"system\", \"content\": f\"{system_message}\"},\n",
    "    {\"role\": \"user\", \"content\": f\"{user_message}\"}\n",
    "  ]\n",
    ")\n",
    "\n",
    "print(response.choices[0].message.content)"
   ]
  },
  {
   "cell_type": "markdown",
   "id": "2227d35c-48c8-478f-a894-47c9b45035ab",
   "metadata": {},
   "source": [
    "### examples3 - RAG"
   ]
  },
  {
   "cell_type": "code",
   "execution_count": null,
   "id": "727fed08-a582-487f-8feb-a027a0f79ce6",
   "metadata": {
    "tags": []
   },
   "outputs": [],
   "source": [
    "import json\n",
    "\n",
    "path = \"../../data/kbank_pd_info.json\"\n",
    "with open(path) as data_file:\n",
    "    pd_infos = json.load(data_file)"
   ]
  },
  {
   "cell_type": "code",
   "execution_count": null,
   "id": "5bf4bec1-1820-463c-9ed7-fed9bb05cc50",
   "metadata": {
    "tags": []
   },
   "outputs": [],
   "source": [
    "pd_dic = {\n",
    "            \"플러스박스\" : [\"플러스박스\",\"플박\"],\n",
    "            \"챌린지박스\" : [\"챌린지박스\",\"챌박\"],\n",
    "            \"기분통장\" : [\"기분통장\"],\n",
    "            \"MY입출금통장\": [\"MY입출금통장\",\"입출금통장\"],\n",
    "            \"코드K정기예금\": [\"코드K정기예금\",\"정기예금\",\"예금\"],\n",
    "            \"주거래자유적금\": [\"주거래우대자유적금\",\"주거래적금\",\"주거래\", \"주거래자유적금\"],\n",
    "            \"코드K자유적금\": [\"코드K자유적금\",\"자유적금\"],\n",
    "            \"아파트담보대출\": [\"아파트담보대출\",\"아담대\"],\n",
    "            \"사장님신용대출\": [\"사장님신용대출\",\"사장님대출\"],\n",
    "            \"사장님보증서대출\": [\"사장님보증서대출\"],\n",
    "            \"전세대출\": [\"전세대출\",\"전세\"],\n",
    "            \"예금적금담보대출\": [\"예금적금담보대출\"],\n",
    "            \"신용대출\": [\"신용대출\"],\n",
    "            \"마이너스통장\": [\"마이너스통장\",\"마이너스대출\",\"마통\"],\n",
    "            \"비상금대출\": [\"비상금대출\"],\n",
    "            \"사잇돌대출\": [\"사잇돌대출\"],\n",
    "            \"대출갈아타기\": [\"대출갈아타기\",\"대환\"],\n",
    "            \"MY체크카드\": [\"MY체크카드\",\"알뜰\"],\n",
    "            \"플러스체크카드\": [\"플러스체크카드\"],\n",
    "            \"KT멤버십더블혜택체크카드\": [\"KT멤버십더블혜택체크카드\",\"KT체크카드\"],\n",
    "            \"HITEEN카드\": [\"HITEEN카드\", \"하이틴\"],\n",
    "            \"한국투자증권\" : [\"한국투자증권\",\"한투\"],\n",
    "            \"미래에셋증권\" : [\"미래에셋증권\"],\n",
    "            \"NH투자증권\" : [\"NH투자증권\"],\n",
    "            \"롯데카드\": [\"롯데카드\"],\n",
    "            \"삼성카드\" : [\"삼성카드\"],\n",
    "            \"심플카드\" : [\"심플카드\",\"simple카드\"],\n",
    "            \"국민카드\" : [\"국민카드\"],\n",
    "            \"돈나무키우기\" : [\"돈나무키우기\"],\n",
    "            \"내신용관리\" : [\"내신용관리\"],\n",
    "            \"머니톡\" : [\"머니톡\"],\n",
    "            \"오늘의생활시세\" : [\"오늘의생활시세\"],\n",
    "            \"오늘의쿠폰\" : [\"오늘의쿠폰\"],\n",
    "            \"부동산자산관리서비스\" : [\"부동산자산관리서비스\"],\n",
    "            \"우리가게매출관리\" : [\"우리가게매출관리\"],\n",
    "            \"행운상자\" : [\"행운상자\"]\n",
    "        }"
   ]
  },
  {
   "cell_type": "code",
   "execution_count": null,
   "id": "55038c8c-0cae-4045-9a7f-7679e432f65f",
   "metadata": {
    "tags": []
   },
   "outputs": [],
   "source": [
    "chatbot_template = (\n",
    "        \"서비스 센터 직원처럼 응답해주세요.\\n\\n\"\n",
    "        \"응답할 때, 상품정보를 참고하세요.\\n\"\n",
    "        \"응답할 때, 금리와 관련이 있는 질문은 반드시 금리도 함께 알려주세요.\\n\"\n",
    "        \"응답할 때, Instruction에 대한 내용을 짧게 정리해주세요.\\n\\n\"\n",
    "        \"### 상품정보 :\\n{prd_info}\\n\\n\"\n",
    "        \"### Instruction(명령어):\\n{instruction}\\n\\n### Response(응답):\"\n",
    ")\n",
    "\n",
    "\n",
    "def search_prd(query):\n",
    "\n",
    "    query = query.replace(\" \",\"\").upper()\n",
    "\n",
    "    for prd, values in pd_dic.items():\n",
    "        for value in values:\n",
    "            if value in query:\n",
    "                return prd\n",
    "\n",
    "    return None\n",
    "\n",
    "pd_info = search_prd(user_query)\n",
    "\n",
    "if pd_info:\n",
    "    prd_info = pd_infos[pd_info]['pd_info']\n",
    "\n",
    "user_query = \"플러스박스 금리에 대해서 알려줘\"\n",
    "\n",
    "prompt = chatbot_template.format(prd_info=prd_info,\n",
    "                                instruction=user_query)\n",
    "print(prompt)"
   ]
  },
  {
   "cell_type": "code",
   "execution_count": null,
   "id": "33f63de0-8692-4830-a7d8-bbc8e37454f2",
   "metadata": {
    "tags": []
   },
   "outputs": [],
   "source": [
    "response = client.chat.completions.create(\n",
    "  model=\"gpt-3.5-turbo\",\n",
    "  messages=[\n",
    "    {\"role\": \"user\", \"content\": f\"{prompt}\"}\n",
    "  ]\n",
    ")\n",
    "\n",
    "print(response.choices[0].message.content)"
   ]
  },
  {
   "cell_type": "markdown",
   "id": "95ebbc7a-9127-4712-b316-3716af8ccdeb",
   "metadata": {
    "tags": []
   },
   "source": [
    "### examples4 - RAG(Web searching)"
   ]
  },
  {
   "cell_type": "code",
   "execution_count": null,
   "id": "67fc1db5-e675-4637-910b-b2d47248ac68",
   "metadata": {
    "tags": []
   },
   "outputs": [],
   "source": [
    "# https://developers.naver.com/apps/#/myapps/sTSv3vWJw6lIwYlrfW82/overview\n",
    "\n",
    "import urllib\n",
    "import requests\n",
    "\n",
    "client_id = \"\"\n",
    "client_secret = \"\"\n",
    "\n",
    "\n",
    "query = \"서울 몽중헌 전화번호\"\n",
    "encoded_query = urllib.parse.quote(query)\n",
    "display, start, sort = 3, 1, 'sim'\n",
    "\n",
    "base_url = \"https://openapi.naver.com/v1/search/blog?query=\"\n",
    "request_url = base_url + encoded_query + \"&display=\" + str(display) + \"&start=\" + str(start) + \"&sort=\" + sort\n",
    "\n",
    "headers = {\n",
    "    \"X-Naver-Client-Id\": client_id,\n",
    "    \"X-Naver-Client-Secret\": client_secret\n",
    "}\n",
    "\n",
    "response = requests.get(request_url,headers=headers)"
   ]
  },
  {
   "cell_type": "code",
   "execution_count": null,
   "id": "769e3bb2-fb4f-4b05-b052-0a5329837c7c",
   "metadata": {
    "tags": []
   },
   "outputs": [],
   "source": [
    "results = response.json()"
   ]
  },
  {
   "cell_type": "code",
   "execution_count": null,
   "id": "7d6cfc94-d9f0-4354-94cf-a5351f366299",
   "metadata": {
    "tags": []
   },
   "outputs": [],
   "source": [
    "print(results)"
   ]
  },
  {
   "cell_type": "code",
   "execution_count": null,
   "id": "ac1f9cc5-7b94-4ee8-877d-6930fafbe97b",
   "metadata": {
    "tags": []
   },
   "outputs": [],
   "source": [
    "items = results['items']\n",
    "descriptions = []\n",
    "for item in items:\n",
    "    description = item['description']\n",
    "    print(description)\n",
    "    descriptions.append(description)"
   ]
  },
  {
   "cell_type": "code",
   "execution_count": null,
   "id": "843537fc-2875-4dfd-8841-bcbb2409eb87",
   "metadata": {
    "tags": []
   },
   "outputs": [],
   "source": [
    "print(\"\\n\\n\".join(descriptions))"
   ]
  },
  {
   "cell_type": "code",
   "execution_count": null,
   "id": "30e93366-c0fb-4f2b-9815-a2b160fe5d04",
   "metadata": {
    "tags": []
   },
   "outputs": [],
   "source": [
    "query = \"서울 몽중헌 전화번호에 대해서 알려줘\"\n",
    "\n",
    "system_message = f\"\"\"\n",
    "    너는 사용자 질의응답에 대응해주는 챗봇이야.\n",
    "\"\"\"\n",
    "\n",
    "user_message = f\"\"\"\n",
    "    아래 웹 서칭 결과를 바탕으로 사용자 질문에 대해서 대답해줘\n",
    "    \n",
    "    질문:\n",
    "    {query}\n",
    "    \n",
    "    웹 서칭 결과:\n",
    "    {descriptions}\n",
    "\"\"\"\n",
    "\n",
    "response = client.chat.completions.create(\n",
    "  model=\"gpt-3.5-turbo\",\n",
    "  messages=[\n",
    "    {\"role\": \"system\", \"content\": f\"{system_message}\"},\n",
    "    {\"role\": \"user\", \"content\": f\"{user_message}\"}\n",
    "  ]\n",
    ")\n",
    "\n",
    "print(response.choices[0].message.content)"
   ]
  },
  {
   "cell_type": "markdown",
   "id": "16a0f249-979b-4f4c-b414-c50f8f8e92db",
   "metadata": {},
   "source": [
    "## requests"
   ]
  },
  {
   "cell_type": "code",
   "execution_count": null,
   "id": "903ee4ce-987a-4cd7-b4ed-fcb46936da51",
   "metadata": {},
   "outputs": [],
   "source": [
    "import urllib\n",
    "import json\n",
    "\n",
    "            \n",
    "req_headers = {\n",
    "    'Content-Type': 'application/json',\n",
    "    'Authorization': 'Bearer {0}'.format(OPENAI_KEY)\n",
    "}\n",
    "\n",
    "data = {\n",
    "        \"model\": \"gpt-3.5-turbo\",\n",
    "        \"messages\": [\n",
    "            {\"role\": \"user\", \"content\": f\"{query}\"}\n",
    "        ]\n",
    "}\n",
    "data = json.dumps(data).encode()\n",
    "\n",
    "resp = urllib.request.Request(method=\"POST\",\n",
    "               url=\"https://api.openai.com/v1/chat/completions\",\n",
    "               headers=req_headers,\n",
    "               data=data)\n",
    "\n",
    "with urllib.request.urlopen(resp, data) as f:\n",
    "    r = json.loads(f.read().decode(\"utf-8\"))\n",
    "    \n",
    "r['choices'][0]['message']['content']"
   ]
  },
  {
   "cell_type": "code",
   "execution_count": null,
   "id": "906bb3ea-7582-494a-ba89-c7b138334888",
   "metadata": {},
   "outputs": [],
   "source": [
    "# https://microsoft.github.io/Workshop-Interact-with-OpenAI-models/ko/"
   ]
  }
 ],
 "metadata": {
  "kernelspec": {
   "display_name": "Python 3 (ipykernel)",
   "language": "python",
   "name": "python3"
  },
  "language_info": {
   "codemirror_mode": {
    "name": "ipython",
    "version": 3
   },
   "file_extension": ".py",
   "mimetype": "text/x-python",
   "name": "python",
   "nbconvert_exporter": "python",
   "pygments_lexer": "ipython3",
   "version": "3.8.18"
  }
 },
 "nbformat": 4,
 "nbformat_minor": 5
}
