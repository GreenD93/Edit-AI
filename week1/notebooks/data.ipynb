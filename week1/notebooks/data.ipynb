{
 "cells": [
  {
   "cell_type": "markdown",
   "id": "a90a0c32-4152-42dd-9660-b3558448f24f",
   "metadata": {
    "tags": []
   },
   "source": [
    "# ML / AI"
   ]
  },
  {
   "cell_type": "markdown",
   "id": "503c6e66-fbd7-41ae-8585-07e96fb2c940",
   "metadata": {},
   "source": [
    "### 정형 Dataset"
   ]
  },
  {
   "cell_type": "code",
   "execution_count": null,
   "id": "c9485db8-3686-4e96-b6d5-b7dbc37310eb",
   "metadata": {},
   "outputs": [],
   "source": [
    "import pandas as pd\n",
    "\n",
    "# tabular\n",
    "df = pd.read_csv(\"../../data/titanic.csv\")\n",
    "df.rename(columns = {'Sex' : 'Gender'}, inplace = True)\n",
    "df.head()"
   ]
  },
  {
   "cell_type": "code",
   "execution_count": null,
   "id": "480333e6-e3dc-4a7f-9984-93cb032d56c6",
   "metadata": {
    "tags": []
   },
   "outputs": [],
   "source": [
    "df[['Pclass', 'Fare', 'Age', 'Survived']].corr()"
   ]
  },
  {
   "cell_type": "code",
   "execution_count": null,
   "id": "6329c84f-0655-4358-b851-d69124734d6b",
   "metadata": {
    "tags": []
   },
   "outputs": [],
   "source": [
    "df['Fare'].describe()"
   ]
  },
  {
   "cell_type": "code",
   "execution_count": null,
   "id": "5d1fd218-50ac-49d3-be17-2e6016ab4633",
   "metadata": {
    "tags": []
   },
   "outputs": [],
   "source": [
    "median = df['Fare'].median()\n",
    "df['check'] = df['Fare'].apply(lambda x : 1 if x > median else 0)"
   ]
  },
  {
   "cell_type": "code",
   "execution_count": null,
   "id": "9b818786-616d-46e4-b5b6-a216c1492e6a",
   "metadata": {
    "tags": []
   },
   "outputs": [],
   "source": [
    "df[df['check'] == 1].groupby(\"Survived\")['check'].count()"
   ]
  },
  {
   "cell_type": "code",
   "execution_count": null,
   "id": "a924146f-21ab-41d2-8aec-74a3530afb0f",
   "metadata": {
    "tags": []
   },
   "outputs": [],
   "source": [
    "df[df['check'] == 0].groupby(\"Survived\")['check'].count()"
   ]
  },
  {
   "cell_type": "markdown",
   "id": "6dfe4d58-d9d9-47d6-9ae7-f1a2cc3d317e",
   "metadata": {},
   "source": [
    "### 비정형 Dataset"
   ]
  },
  {
   "cell_type": "code",
   "execution_count": null,
   "id": "8bc6596b-56a0-45df-a2d8-206d9724dc82",
   "metadata": {},
   "outputs": [],
   "source": [
    "### Text\n",
    "reviews = pd.read_csv(\"../../data/preprocessed_kindle_review.csv\")\n",
    "reviews.head()"
   ]
  },
  {
   "cell_type": "code",
   "execution_count": null,
   "id": "f3dbe5ba-4b35-46d3-905b-e562be31e7a1",
   "metadata": {},
   "outputs": [],
   "source": [
    "import torch\n",
    "def preprocess(text):\n",
    "    text = text.lower()\n",
    "    text = text.replace(\"(\", \"\")\n",
    "    text = text.replace(\")\", \"\")\n",
    "    text = text.replace(\",\", \"\")\n",
    "    text = text.replace(\"!\", \"\")\n",
    "    text = text.replace(\"?\", \"\")\n",
    "    text = text.replace(\"[\", \"\")\n",
    "    text = text.replace(\"]\", \"\")\n",
    "    text = text.replace(\".\", \"\")\n",
    "    text = text.replace(\",\", \"\")\n",
    "    text = text.replace(\";\", \"\")\n",
    "    text = text.replace(\"-\", \"\")\n",
    "    text = text.replace(\"/\", \" \")\n",
    "    text = text.replace(\"  \", \" \")\n",
    "    text = text.strip()\n",
    "    return text\n",
    "    \n",
    "reviews = reviews.dropna().reset_index(drop=True)\n",
    "reviews['summary'] = reviews['summary'].apply(lambda x : preprocess(x))"
   ]
  },
  {
   "cell_type": "code",
   "execution_count": null,
   "id": "121fe9f6-8f9f-427e-9460-2c4c6704b4b8",
   "metadata": {},
   "outputs": [],
   "source": [
    "texts = reviews['summary'].tolist()\n",
    "\n",
    "word2idx = {}\n",
    "word2idx[\"PAD\"] = 0\n",
    "\n",
    "i = 1\n",
    "for text in texts:\n",
    "    words = text.split(\" \")\n",
    "    for word in words:\n",
    "        if word not in word2idx.keys():\n",
    "            word2idx[word] = i\n",
    "            i += 1\n",
    "\n",
    "def words_to_idx(words):\n",
    "    word_idxs = []\n",
    "    for word in words:\n",
    "        word_idx = word2idx[word]\n",
    "        word_idxs.append(word_idx)\n",
    "    return word_idxs"
   ]
  },
  {
   "cell_type": "code",
   "execution_count": null,
   "id": "33b89a08-9d19-498a-9d57-4573905e8076",
   "metadata": {},
   "outputs": [],
   "source": [
    "reviews['embedding'] = reviews['summary'].apply(lambda x : words_to_idx(x.split(\" \")))"
   ]
  },
  {
   "cell_type": "code",
   "execution_count": null,
   "id": "9721a3bc-4923-411b-8019-ffae081fed2f",
   "metadata": {},
   "outputs": [],
   "source": [
    "reviews['embedding'].iloc[0]"
   ]
  },
  {
   "cell_type": "code",
   "execution_count": null,
   "id": "3d3a5ffb-698b-4f34-8fc7-b44005b615b4",
   "metadata": {},
   "outputs": [],
   "source": [
    "import torch.nn as nn\n",
    "embeddig_layers = nn.Embedding(6234, 100)"
   ]
  },
  {
   "cell_type": "code",
   "execution_count": null,
   "id": "6a070e04-dba2-4e7c-be87-6e82f48907c3",
   "metadata": {},
   "outputs": [],
   "source": [
    "embeddig_layers.state_dict()"
   ]
  },
  {
   "cell_type": "code",
   "execution_count": null,
   "id": "6dce5d68-bf62-4f33-bbc8-01237c8ea692",
   "metadata": {},
   "outputs": [],
   "source": [
    "import cv2\n",
    "import matplotlib.pyplot as plt\n",
    "### 이미지\n",
    "sample = cv2.imread(\"../../data/money_bag.png\", cv2.IMREAD_UNCHANGED)\n",
    "print(sample.shape)\n",
    "plt.imshow(sample)"
   ]
  }
 ],
 "metadata": {
  "kernelspec": {
   "display_name": "Python 3 (ipykernel)",
   "language": "python",
   "name": "python3"
  },
  "language_info": {
   "codemirror_mode": {
    "name": "ipython",
    "version": 3
   },
   "file_extension": ".py",
   "mimetype": "text/x-python",
   "name": "python",
   "nbconvert_exporter": "python",
   "pygments_lexer": "ipython3",
   "version": "3.10.0"
  }
 },
 "nbformat": 4,
 "nbformat_minor": 5
}
