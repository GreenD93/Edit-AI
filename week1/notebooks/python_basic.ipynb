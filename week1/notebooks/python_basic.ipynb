{
 "cells": [
  {
   "cell_type": "markdown",
   "id": "e382bd94-d289-48cb-a845-dd98de998c9c",
   "metadata": {
    "tags": []
   },
   "source": [
    "## Python style"
   ]
  },
  {
   "cell_type": "code",
   "execution_count": null,
   "id": "b9cc1669-e34f-4546-8952-aff62992369d",
   "metadata": {
    "tags": []
   },
   "outputs": [],
   "source": [
    "# Naming convention & 변수 정의\n",
    "## Camel\n",
    "userName = \"yonggeol\"\n",
    "## Snake\n",
    "user_name = \"yonggeol\"\n",
    "\n",
    "print(userName)\n",
    "print(user_name)"
   ]
  },
  {
   "cell_type": "code",
   "execution_count": null,
   "id": "40d74199-2e41-47e5-aa64-5d4c8ba4ea58",
   "metadata": {
    "tags": []
   },
   "outputs": [],
   "source": [
    "## 기본 연산\n",
    "print(1 + 1) # 덧셈\n",
    "print(10 - 1) # 뺄셈\n",
    "print(10 * 10) # 곱\n",
    "print(10 // 2) # 몫\n",
    "print(10 % 2) # 나머지\n",
    "\n",
    "## Boolean 연산\n",
    "print((10 % 2) == 0)\n",
    "print((10 % 2) != 0)"
   ]
  },
  {
   "cell_type": "markdown",
   "id": "07ee15b8-5639-4d8a-a695-c61268235aff",
   "metadata": {
    "tags": []
   },
   "source": [
    "### Data structure"
   ]
  },
  {
   "cell_type": "code",
   "execution_count": null,
   "id": "3f923b89-297a-4bbb-b775-a6e36b0da0c0",
   "metadata": {},
   "outputs": [],
   "source": [
    "# List (array)\n",
    "## index\n",
    "num_buckets = [1,2,3,4,5,6,7,8,9,10]\n",
    "buckets = ['kbank','yonggeol',3,4,5,6,7,8,9,10]\n",
    "\n",
    "print(num_buckets[0])\n",
    "print(buckets[0])"
   ]
  },
  {
   "cell_type": "code",
   "execution_count": null,
   "id": "c674d823-4958-402e-bdd0-48cc3e6a3d2f",
   "metadata": {},
   "outputs": [],
   "source": [
    "print(len(num_buckets))\n",
    "print(list(range(10)))"
   ]
  },
  {
   "cell_type": "code",
   "execution_count": null,
   "id": "bb0fa318-02ab-45cb-9cf6-a0570157e6c1",
   "metadata": {
    "tags": []
   },
   "outputs": [],
   "source": [
    "a = [1,2,3]\n",
    "b = [4,5,6]\n",
    "a + b"
   ]
  },
  {
   "cell_type": "code",
   "execution_count": null,
   "id": "f3e24892-1253-4d30-9f62-92e1285b59c8",
   "metadata": {
    "tags": []
   },
   "outputs": [],
   "source": [
    "## dictionary (key, values)\n",
    "item = {\n",
    "    \"name\" : \"yonggeol\",\n",
    "    \"age\": 32,\n",
    "    \"family\" : [\"mother\", \"father\", \"sister\"]\n",
    "}\n",
    "print(item['name'])\n",
    "print(item[\"age\"])\n",
    "print(item[\"family\"])"
   ]
  },
  {
   "cell_type": "code",
   "execution_count": null,
   "id": "3755454f-e574-40fd-8c18-7c53323f8615",
   "metadata": {
    "tags": []
   },
   "outputs": [],
   "source": [
    "len(num_buckets)"
   ]
  },
  {
   "cell_type": "code",
   "execution_count": null,
   "id": "f5882d1f-89e2-4f31-95c8-d829ccbe77bc",
   "metadata": {
    "tags": []
   },
   "outputs": [],
   "source": [
    "list(range(10))"
   ]
  },
  {
   "cell_type": "markdown",
   "id": "c063eb09-378e-4404-b0c5-eeb9e6bbf927",
   "metadata": {},
   "source": [
    "### Condition"
   ]
  },
  {
   "cell_type": "code",
   "execution_count": null,
   "id": "9b7be179-f548-4349-9b9a-2fa4e95aff4f",
   "metadata": {
    "tags": []
   },
   "outputs": [],
   "source": [
    "# 조건문\n",
    "\n",
    "num = 10\n",
    "\n",
    "if num < 10:\n",
    "    print(f\"{num} is less than 10\")\n",
    "\n",
    "elif num < 20 :\n",
    "    print(f\"{num} is greather than 10 and less than 20\")\n",
    "\n",
    "else:\n",
    "    print(f\"{num} is greather than 20\")"
   ]
  },
  {
   "cell_type": "code",
   "execution_count": null,
   "id": "36f71948-7c2a-4829-b6de-6ab388fb30dc",
   "metadata": {
    "tags": []
   },
   "outputs": [],
   "source": [
    "# 반복문\n",
    "\n",
    "## for\n",
    "for i in num_buckets:\n",
    "    if (i % 2) == 0:\n",
    "        print(i)"
   ]
  },
  {
   "cell_type": "code",
   "execution_count": null,
   "id": "e7d30b9a-3813-47ea-82f5-b75f2d590c18",
   "metadata": {
    "tags": []
   },
   "outputs": [],
   "source": [
    "i = 0\n",
    "while i <= 10:\n",
    "    if (i % 2) == 0:\n",
    "        print(i)\n",
    "    i+=1"
   ]
  },
  {
   "cell_type": "code",
   "execution_count": null,
   "id": "c192b878-8b56-4b08-a662-1b6b6810db09",
   "metadata": {
    "tags": []
   },
   "outputs": [],
   "source": [
    "# list comprehension\n",
    "evens = []\n",
    "i = 0\n",
    "for i in num_buckets:\n",
    "    if (i % 2) == 0:\n",
    "        evens.append(i)\n",
    "print(evens)"
   ]
  },
  {
   "cell_type": "code",
   "execution_count": null,
   "id": "f990246b-5809-4a61-a532-5a023489a420",
   "metadata": {
    "tags": []
   },
   "outputs": [],
   "source": [
    "evens = [ i for i in num_buckets if (i % 2) == 0]\n",
    "print(evens)"
   ]
  },
  {
   "cell_type": "markdown",
   "id": "5e3bb259-ccaf-4d17-9fb5-5c2b4715184b",
   "metadata": {},
   "source": [
    "### 예외처리"
   ]
  },
  {
   "cell_type": "code",
   "execution_count": null,
   "id": "5053a3ec-83f5-4377-9ccc-6c56f7230343",
   "metadata": {
    "tags": []
   },
   "outputs": [],
   "source": [
    "a = '123'\n",
    "\n",
    "try:\n",
    "    result = a + 1\n",
    "except TypeError:\n",
    "    result = int(a) + 1"
   ]
  },
  {
   "cell_type": "markdown",
   "id": "68d8e44c-7c3d-49d3-a3d3-1c222ac7424a",
   "metadata": {},
   "source": [
    "### enumerate & zip"
   ]
  },
  {
   "cell_type": "code",
   "execution_count": null,
   "id": "bb37e44a-05d8-448e-8af1-0e912aeeb99f",
   "metadata": {
    "tags": []
   },
   "outputs": [],
   "source": [
    "# enumerate\n",
    "i = 0\n",
    "words = [\"apple\", \"book\", \"cat\"]\n",
    "for word in words:\n",
    "    print(i, word)\n",
    "    i+=1"
   ]
  },
  {
   "cell_type": "code",
   "execution_count": null,
   "id": "c861a8cf-92eb-4724-af8d-3f6433c562c9",
   "metadata": {
    "tags": []
   },
   "outputs": [],
   "source": [
    "words = [\"apple\", \"book\", \"cat\"]\n",
    "for i, word in enumerate(words):\n",
    "    print(i, word)"
   ]
  },
  {
   "cell_type": "code",
   "execution_count": null,
   "id": "f69ec900-3db3-47c3-8a21-1f7fb30284eb",
   "metadata": {
    "tags": []
   },
   "outputs": [],
   "source": [
    "word2idx = { word:i for i, word in enumerate(words)}\n",
    "word2idx"
   ]
  },
  {
   "cell_type": "code",
   "execution_count": null,
   "id": "3e5243f6-68b7-4c4f-b399-ad2abf06cf4e",
   "metadata": {
    "tags": []
   },
   "outputs": [],
   "source": [
    "# zip\n",
    "words = [\"apple\", \"book\", \"cat\", \"안녕하세요\"]\n",
    "probs = [0.99, 0.98, 0.89, 0.01]\n",
    "\n",
    "for word, prob in zip(words, probs):\n",
    "    print(f\"단어: {word}, 확률: {prob}\")"
   ]
  },
  {
   "cell_type": "code",
   "execution_count": null,
   "id": "59b4de2f-eb15-402e-b194-467eb4dd54e9",
   "metadata": {
    "tags": []
   },
   "outputs": [],
   "source": [
    "ens = []\n",
    "for word, prob in zip(words, probs):\n",
    "    if prob > 0.5:\n",
    "        ens.append(word)\n",
    "print(ens)"
   ]
  },
  {
   "cell_type": "markdown",
   "id": "4697edbd-46d6-4254-90c1-76f61cc36874",
   "metadata": {},
   "source": [
    "### Function"
   ]
  },
  {
   "cell_type": "code",
   "execution_count": null,
   "id": "3a50cb56-ac9b-4c74-a5d9-4c6a5660689b",
   "metadata": {
    "tags": []
   },
   "outputs": [],
   "source": [
    "def check_odd_number(num):\n",
    "    if (num % 2) == 1:\n",
    "        return True\n",
    "    else:\n",
    "        return False\n",
    "num = 5    \n",
    "check_odd_number(5)"
   ]
  },
  {
   "cell_type": "markdown",
   "id": "5795ceb4-7a83-42e4-91fc-be7e237ff8fd",
   "metadata": {},
   "source": [
    "### Class\n",
    "- 객체지향 Language\n",
    "- low coupling high cohesion\n",
    "- 모듈화 & 공용화 / 재사용성"
   ]
  },
  {
   "cell_type": "markdown",
   "id": "722bd150-856f-4d77-b390-a122ea2ff9ff",
   "metadata": {},
   "source": [
    "### 재사용성\n",
    "- Interface"
   ]
  },
  {
   "cell_type": "code",
   "execution_count": null,
   "id": "5e3e6b0c-7b4e-4baf-9adb-4e7e4148aa3d",
   "metadata": {},
   "outputs": [],
   "source": [
    "# https://github.com/GreenD93/databiz_llm/blob/main/src/travel_concierge/naver_crawler.py\n",
    "# 예시) 작업 설계도 / 리모컨\n",
    "\n",
    "from src.travel_concierge.naver_crawler import NaverCrawler\n",
    "naver_crawler = NaverCrawler()\n",
    "\n",
    "search_quries = []\n",
    "for query_type in query_types:\n",
    "    search_query = naver_crawler.generate_search_query(user_input, query_type)\n",
    "    search_quries.append(search_query)\n",
    "\n",
    "items = naver_crawler.get_blog_infos(query_types, search_quries)\n",
    "\n",
    "print(items)\n",
    "\n",
    "with st.spinner('Naver Blog 정보를 가져오고 있어요 ...'):\n",
    "    items = naver_crawler.get_contents(items)"
   ]
  },
  {
   "cell_type": "markdown",
   "id": "d677a344-3ad9-459c-baae-9f17dd84850b",
   "metadata": {},
   "source": [
    "### 상속"
   ]
  },
  {
   "cell_type": "code",
   "execution_count": null,
   "id": "8a827a63-baf4-4b16-b07d-fd68e2b5b9ad",
   "metadata": {
    "tags": []
   },
   "outputs": [],
   "source": [
    "class Person:\n",
    "    \n",
    "    def __init__(self, name):\n",
    "        self.name = name\n",
    "        print(f\"Create {name} object!\")\n",
    "        \n",
    "    def up(self):\n",
    "        print(\"up button\")\n",
    "        \n",
    "    def down(self):\n",
    "        print(\"down button\")\n",
    "        \n",
    "    def left(self):\n",
    "        print(\"left button\")\n",
    "        \n",
    "    def right(self):\n",
    "        print(\"right button\")\n",
    "        \n",
    "    def attack(self):\n",
    "        print(\"attack button\")\n",
    "        \n",
    "yg = Person(\"yonggeol\")"
   ]
  },
  {
   "cell_type": "code",
   "execution_count": null,
   "id": "1770a59f-a1db-4fd1-af17-fb700b47581d",
   "metadata": {
    "tags": []
   },
   "outputs": [],
   "source": [
    "class Warrior(Person):\n",
    "        \n",
    "    def shild(self):\n",
    "        print(\"shild\")\n",
    "        \n",
    "    def attack(self):\n",
    "        print(\"power strike\")\n",
    "        \n",
    "    \n",
    "class Wizard(Person):\n",
    "    \n",
    "    def teleport(self):\n",
    "        print(\"teleport\")\n",
    "    \n",
    "    def attack(self):\n",
    "        print(\"energy bolt!\")"
   ]
  },
  {
   "cell_type": "code",
   "execution_count": null,
   "id": "edd1492b-c9ed-48e1-a5cc-c506858323f2",
   "metadata": {
    "tags": []
   },
   "outputs": [],
   "source": [
    "wizard = Wizard(\"databiz\")"
   ]
  },
  {
   "cell_type": "code",
   "execution_count": null,
   "id": "f766b195-8913-43aa-a2a7-5a2c076b4423",
   "metadata": {
    "tags": []
   },
   "outputs": [],
   "source": [
    "wizard.attack()"
   ]
  },
  {
   "cell_type": "code",
   "execution_count": null,
   "id": "3684655a-55b1-4eed-ae85-8776ab366df3",
   "metadata": {
    "tags": []
   },
   "outputs": [],
   "source": [
    "wizard.teleport()"
   ]
  },
  {
   "cell_type": "code",
   "execution_count": null,
   "id": "ce6785df-2c79-4d6c-9858-ddbca6009dde",
   "metadata": {
    "tags": []
   },
   "outputs": [],
   "source": [
    "warrior = Warrior(\"yg\")"
   ]
  },
  {
   "cell_type": "code",
   "execution_count": null,
   "id": "d0b8224f-6c1f-47d5-9798-77702931715c",
   "metadata": {
    "tags": []
   },
   "outputs": [],
   "source": [
    "warrior.shild()"
   ]
  }
 ],
 "metadata": {
  "kernelspec": {
   "display_name": "Python 3 (ipykernel)",
   "language": "python",
   "name": "python3"
  },
  "language_info": {
   "codemirror_mode": {
    "name": "ipython",
    "version": 3
   },
   "file_extension": ".py",
   "mimetype": "text/x-python",
   "name": "python",
   "nbconvert_exporter": "python",
   "pygments_lexer": "ipython3",
   "version": "3.8.18"
  }
 },
 "nbformat": 4,
 "nbformat_minor": 5
}
