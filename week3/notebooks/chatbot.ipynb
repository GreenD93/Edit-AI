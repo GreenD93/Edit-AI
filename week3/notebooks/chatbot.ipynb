{
 "cells": [
  {
   "cell_type": "code",
   "execution_count": 1,
   "id": "6337e462-495a-4c38-a2de-7838b9fb97ea",
   "metadata": {},
   "outputs": [],
   "source": [
    "!pip install -q openai langchain tiktoken faiss-cpu"
   ]
  },
  {
   "cell_type": "code",
   "execution_count": 4,
   "id": "b3d07493-8168-492b-93ff-746fc95ce9d0",
   "metadata": {},
   "outputs": [],
   "source": [
    "import os\n",
    "from openai import OpenAI\n",
    "\n",
    "key = \"\"\n",
    "os.environ['OPENAI_API_KEY'] = key\n",
    "\n",
    "client = OpenAI()"
   ]
  },
  {
   "cell_type": "code",
   "execution_count": 5,
   "id": "cb8687ba-e360-427b-8553-5a10059b29e9",
   "metadata": {},
   "outputs": [
    {
     "data": {
      "text/html": [
       "<div>\n",
       "<style scoped>\n",
       "    .dataframe tbody tr th:only-of-type {\n",
       "        vertical-align: middle;\n",
       "    }\n",
       "\n",
       "    .dataframe tbody tr th {\n",
       "        vertical-align: top;\n",
       "    }\n",
       "\n",
       "    .dataframe thead th {\n",
       "        text-align: right;\n",
       "    }\n",
       "</style>\n",
       "<table border=\"1\" class=\"dataframe\">\n",
       "  <thead>\n",
       "    <tr style=\"text-align: right;\">\n",
       "      <th></th>\n",
       "      <th>category</th>\n",
       "      <th>question</th>\n",
       "      <th>answer</th>\n",
       "      <th>embedding</th>\n",
       "    </tr>\n",
       "  </thead>\n",
       "  <tbody>\n",
       "    <tr>\n",
       "      <th>0</th>\n",
       "      <td>예금 · 적금</td>\n",
       "      <td>듀얼K 입출금통장의 '남길금액'과 '플러스박스'는 어떤 점이 다른가요?</td>\n",
       "      <td>듀얼K입출금통장 (남길금액)\\n여유자금을 남길금액으로 설정하고 한달 동안 잔액을 유...</td>\n",
       "      <td>[-0.018170368, -0.102951586, 1.0141064, -0.871...</td>\n",
       "    </tr>\n",
       "    <tr>\n",
       "      <th>1</th>\n",
       "      <td>예금 · 적금</td>\n",
       "      <td>듀얼K 입출금통장의 '남길금액'과 '플러스박스'를 동시에 이용할 수 있나요?</td>\n",
       "      <td>듀얼K 입출금통장을 보유하신 고객은 남길금액과 플러스박스(파킹통장)를 동시에 이용할...</td>\n",
       "      <td>[-0.107609905, -0.22749503, 1.3711764, -0.7877...</td>\n",
       "    </tr>\n",
       "    <tr>\n",
       "      <th>2</th>\n",
       "      <td>예금 · 적금</td>\n",
       "      <td>입출금 통장별로 플러스박스를 만들 수 있나요?</td>\n",
       "      <td>네 가능합니다. 플러스박스는 고객님이 보유하신 입출금통장과 연결하여 1인 최대 10...</td>\n",
       "      <td>[-0.090952665, -0.29497996, 1.2406822, -0.5032...</td>\n",
       "    </tr>\n",
       "    <tr>\n",
       "      <th>3</th>\n",
       "      <td>예금 · 적금</td>\n",
       "      <td>듀얼K 입출금통장에 플러스박스를 연결할 수 있나요?</td>\n",
       "      <td>네 가능합니다.\\n고객님이 보유하신 당행 입출금통장에 플러스박스를 연결할 수 있습니...</td>\n",
       "      <td>[-0.2557224, -0.1423537, 1.4077793, -0.6369744...</td>\n",
       "    </tr>\n",
       "    <tr>\n",
       "      <th>4</th>\n",
       "      <td>예금 · 적금</td>\n",
       "      <td>입출금통장 잔액이 부족하면 플러스박스 잔액에서 자동으로 출금 되나요?</td>\n",
       "      <td>아니요. 자동으로 출금되지 않습니다.\\n플러스박스 보관금액은 연결된 입출금통장 잔액...</td>\n",
       "      <td>[-0.22084534, 0.11942373, 1.186573, -0.1382266...</td>\n",
       "    </tr>\n",
       "  </tbody>\n",
       "</table>\n",
       "</div>"
      ],
      "text/plain": [
       "  category                                     question  \\\n",
       "0  예금 · 적금      듀얼K 입출금통장의 '남길금액'과 '플러스박스'는 어떤 점이 다른가요?   \n",
       "1  예금 · 적금   듀얼K 입출금통장의 '남길금액'과 '플러스박스'를 동시에 이용할 수 있나요?   \n",
       "2  예금 · 적금                    입출금 통장별로 플러스박스를 만들 수 있나요?   \n",
       "3  예금 · 적금                 듀얼K 입출금통장에 플러스박스를 연결할 수 있나요?   \n",
       "4  예금 · 적금       입출금통장 잔액이 부족하면 플러스박스 잔액에서 자동으로 출금 되나요?   \n",
       "\n",
       "                                              answer  \\\n",
       "0  듀얼K입출금통장 (남길금액)\\n여유자금을 남길금액으로 설정하고 한달 동안 잔액을 유...   \n",
       "1  듀얼K 입출금통장을 보유하신 고객은 남길금액과 플러스박스(파킹통장)를 동시에 이용할...   \n",
       "2  네 가능합니다. 플러스박스는 고객님이 보유하신 입출금통장과 연결하여 1인 최대 10...   \n",
       "3  네 가능합니다.\\n고객님이 보유하신 당행 입출금통장에 플러스박스를 연결할 수 있습니...   \n",
       "4  아니요. 자동으로 출금되지 않습니다.\\n플러스박스 보관금액은 연결된 입출금통장 잔액...   \n",
       "\n",
       "                                           embedding  \n",
       "0  [-0.018170368, -0.102951586, 1.0141064, -0.871...  \n",
       "1  [-0.107609905, -0.22749503, 1.3711764, -0.7877...  \n",
       "2  [-0.090952665, -0.29497996, 1.2406822, -0.5032...  \n",
       "3  [-0.2557224, -0.1423537, 1.4077793, -0.6369744...  \n",
       "4  [-0.22084534, 0.11942373, 1.186573, -0.1382266...  "
      ]
     },
     "execution_count": 5,
     "metadata": {},
     "output_type": "execute_result"
    }
   ],
   "source": [
    "import pandas as pd\n",
    "\n",
    "df = pd.read_csv(\"qa_dataset.csv\", sep=\"|\")\n",
    "df.head()"
   ]
  },
  {
   "cell_type": "code",
   "execution_count": 6,
   "id": "f0243042-c161-4939-b5cc-deaa598fa269",
   "metadata": {},
   "outputs": [],
   "source": [
    "client = OpenAI()\n",
    "\n",
    "def get_embedding(text, model=\"text-embedding-ada-002\"):\n",
    "    text = text.replace(\"\\n\", \" \")\n",
    "    return client.embeddings.create(input = [text], model=model).data[0].embedding\n",
    "\n",
    "df['ada_embedding'] = df['question'].apply(lambda x: get_embedding(x, model='text-embedding-ada-002'))"
   ]
  },
  {
   "cell_type": "code",
   "execution_count": 7,
   "id": "e2429660-b297-46bb-bb95-1b51077d5201",
   "metadata": {},
   "outputs": [],
   "source": [
    "df.to_csv(\"results.csv\", sep=\"|\", index=False)"
   ]
  },
  {
   "cell_type": "code",
   "execution_count": 8,
   "id": "41f966ed-7074-4ebd-86e4-9effc65955fd",
   "metadata": {},
   "outputs": [
    {
     "data": {
      "text/html": [
       "<div>\n",
       "<style scoped>\n",
       "    .dataframe tbody tr th:only-of-type {\n",
       "        vertical-align: middle;\n",
       "    }\n",
       "\n",
       "    .dataframe tbody tr th {\n",
       "        vertical-align: top;\n",
       "    }\n",
       "\n",
       "    .dataframe thead th {\n",
       "        text-align: right;\n",
       "    }\n",
       "</style>\n",
       "<table border=\"1\" class=\"dataframe\">\n",
       "  <thead>\n",
       "    <tr style=\"text-align: right;\">\n",
       "      <th></th>\n",
       "      <th>category</th>\n",
       "      <th>question</th>\n",
       "      <th>answer</th>\n",
       "      <th>embedding</th>\n",
       "      <th>ada_embedding</th>\n",
       "    </tr>\n",
       "  </thead>\n",
       "  <tbody>\n",
       "    <tr>\n",
       "      <th>0</th>\n",
       "      <td>예금 · 적금</td>\n",
       "      <td>듀얼K 입출금통장의 '남길금액'과 '플러스박스'는 어떤 점이 다른가요?</td>\n",
       "      <td>듀얼K입출금통장 (남길금액)\\n여유자금을 남길금액으로 설정하고 한달 동안 잔액을 유...</td>\n",
       "      <td>[-0.018170368, -0.102951586, 1.0141064, -0.871...</td>\n",
       "      <td>[-0.0023889727890491486, 0.0060088736936450005...</td>\n",
       "    </tr>\n",
       "    <tr>\n",
       "      <th>1</th>\n",
       "      <td>예금 · 적금</td>\n",
       "      <td>듀얼K 입출금통장의 '남길금액'과 '플러스박스'를 동시에 이용할 수 있나요?</td>\n",
       "      <td>듀얼K 입출금통장을 보유하신 고객은 남길금액과 플러스박스(파킹통장)를 동시에 이용할...</td>\n",
       "      <td>[-0.107609905, -0.22749503, 1.3711764, -0.7877...</td>\n",
       "      <td>[-0.013954252935945988, -0.00400847801938653, ...</td>\n",
       "    </tr>\n",
       "    <tr>\n",
       "      <th>2</th>\n",
       "      <td>예금 · 적금</td>\n",
       "      <td>입출금 통장별로 플러스박스를 만들 수 있나요?</td>\n",
       "      <td>네 가능합니다. 플러스박스는 고객님이 보유하신 입출금통장과 연결하여 1인 최대 10...</td>\n",
       "      <td>[-0.090952665, -0.29497996, 1.2406822, -0.5032...</td>\n",
       "      <td>[-0.013343286700546741, -0.014095021411776543,...</td>\n",
       "    </tr>\n",
       "    <tr>\n",
       "      <th>3</th>\n",
       "      <td>예금 · 적금</td>\n",
       "      <td>듀얼K 입출금통장에 플러스박스를 연결할 수 있나요?</td>\n",
       "      <td>네 가능합니다.\\n고객님이 보유하신 당행 입출금통장에 플러스박스를 연결할 수 있습니...</td>\n",
       "      <td>[-0.2557224, -0.1423537, 1.4077793, -0.6369744...</td>\n",
       "      <td>[-0.01965808868408203, 0.003127714851871133, 0...</td>\n",
       "    </tr>\n",
       "    <tr>\n",
       "      <th>4</th>\n",
       "      <td>예금 · 적금</td>\n",
       "      <td>입출금통장 잔액이 부족하면 플러스박스 잔액에서 자동으로 출금 되나요?</td>\n",
       "      <td>아니요. 자동으로 출금되지 않습니다.\\n플러스박스 보관금액은 연결된 입출금통장 잔액...</td>\n",
       "      <td>[-0.22084534, 0.11942373, 1.186573, -0.1382266...</td>\n",
       "      <td>[-0.011873620562255383, -0.024180201813578606,...</td>\n",
       "    </tr>\n",
       "  </tbody>\n",
       "</table>\n",
       "</div>"
      ],
      "text/plain": [
       "  category                                     question  \\\n",
       "0  예금 · 적금      듀얼K 입출금통장의 '남길금액'과 '플러스박스'는 어떤 점이 다른가요?   \n",
       "1  예금 · 적금   듀얼K 입출금통장의 '남길금액'과 '플러스박스'를 동시에 이용할 수 있나요?   \n",
       "2  예금 · 적금                    입출금 통장별로 플러스박스를 만들 수 있나요?   \n",
       "3  예금 · 적금                 듀얼K 입출금통장에 플러스박스를 연결할 수 있나요?   \n",
       "4  예금 · 적금       입출금통장 잔액이 부족하면 플러스박스 잔액에서 자동으로 출금 되나요?   \n",
       "\n",
       "                                              answer  \\\n",
       "0  듀얼K입출금통장 (남길금액)\\n여유자금을 남길금액으로 설정하고 한달 동안 잔액을 유...   \n",
       "1  듀얼K 입출금통장을 보유하신 고객은 남길금액과 플러스박스(파킹통장)를 동시에 이용할...   \n",
       "2  네 가능합니다. 플러스박스는 고객님이 보유하신 입출금통장과 연결하여 1인 최대 10...   \n",
       "3  네 가능합니다.\\n고객님이 보유하신 당행 입출금통장에 플러스박스를 연결할 수 있습니...   \n",
       "4  아니요. 자동으로 출금되지 않습니다.\\n플러스박스 보관금액은 연결된 입출금통장 잔액...   \n",
       "\n",
       "                                           embedding  \\\n",
       "0  [-0.018170368, -0.102951586, 1.0141064, -0.871...   \n",
       "1  [-0.107609905, -0.22749503, 1.3711764, -0.7877...   \n",
       "2  [-0.090952665, -0.29497996, 1.2406822, -0.5032...   \n",
       "3  [-0.2557224, -0.1423537, 1.4077793, -0.6369744...   \n",
       "4  [-0.22084534, 0.11942373, 1.186573, -0.1382266...   \n",
       "\n",
       "                                       ada_embedding  \n",
       "0  [-0.0023889727890491486, 0.0060088736936450005...  \n",
       "1  [-0.013954252935945988, -0.00400847801938653, ...  \n",
       "2  [-0.013343286700546741, -0.014095021411776543,...  \n",
       "3  [-0.01965808868408203, 0.003127714851871133, 0...  \n",
       "4  [-0.011873620562255383, -0.024180201813578606,...  "
      ]
     },
     "execution_count": 8,
     "metadata": {},
     "output_type": "execute_result"
    }
   ],
   "source": [
    "df.head()"
   ]
  },
  {
   "cell_type": "code",
   "execution_count": 9,
   "id": "45aca3ac-7f42-49d2-98aa-3c0ed485474d",
   "metadata": {},
   "outputs": [],
   "source": [
    "import faiss\n",
    "import numpy as np\n",
    "\n",
    "embeddings = np.array(df['ada_embedding'].tolist())\n",
    "dim = embeddings.shape[1]"
   ]
  },
  {
   "cell_type": "code",
   "execution_count": 10,
   "id": "df52266d-dd9b-4f13-88a3-95711d2731c5",
   "metadata": {},
   "outputs": [],
   "source": [
    "ids = [i for i in range(len(embeddings))]\n",
    "index = faiss.IndexFlatL2(dim)\n",
    "index = faiss.IndexIDMap2(index)\n",
    "index.add_with_ids(embeddings, ids)"
   ]
  },
  {
   "cell_type": "code",
   "execution_count": 11,
   "id": "26d89f2a-b530-4f7d-87e5-82b56350d891",
   "metadata": {},
   "outputs": [
    {
     "name": "stdout",
     "output_type": "stream",
     "text": [
      "[[0.         0.07966946 0.13640139]]\n",
      "[[0 1 3]]\n"
     ]
    }
   ],
   "source": [
    "distnaces, indices = index.search(embeddings[0].reshape(1,-1),3)\n",
    "\n",
    "print(distnaces)\n",
    "print(indices)"
   ]
  },
  {
   "cell_type": "code",
   "execution_count": 12,
   "id": "51ed5005-4d54-40a4-8ed8-9538af8057c0",
   "metadata": {},
   "outputs": [
    {
     "data": {
      "text/plain": [
       "(1, 1536)"
      ]
     },
     "execution_count": 12,
     "metadata": {},
     "output_type": "execute_result"
    }
   ],
   "source": [
    "embeddings[0].reshape(1,-1).shape"
   ]
  },
  {
   "cell_type": "code",
   "execution_count": 13,
   "id": "c373ee81-2db1-4c58-9ef2-394522dacb20",
   "metadata": {},
   "outputs": [],
   "source": [
    "q = \"플러스박스 연결하는 방법 알려줘\"\n",
    "q_embedding = get_embedding(q)"
   ]
  },
  {
   "cell_type": "code",
   "execution_count": 14,
   "id": "0ed669f1-beb7-4164-8ea5-8b15aaa8ffc0",
   "metadata": {},
   "outputs": [
    {
     "name": "stdout",
     "output_type": "stream",
     "text": [
      "[[0.28690213 0.34518945 0.3497604 ]]\n",
      "[[3 2 6]]\n"
     ]
    }
   ],
   "source": [
    "q_search = np.array(q_embedding).reshape(1,-1)\n",
    "distnaces, indices = index.search(q_search,3)\n",
    "\n",
    "print(distnaces)\n",
    "print(indices)"
   ]
  },
  {
   "cell_type": "code",
   "execution_count": 15,
   "id": "3f2e8767-4add-4012-b16a-d15c7866f047",
   "metadata": {},
   "outputs": [],
   "source": [
    "index_nm = \"test.index\"\n",
    "\n",
    "faiss.write_index(index, index_nm)\n",
    "index = faiss.read_index(index_nm)"
   ]
  },
  {
   "cell_type": "code",
   "execution_count": 16,
   "id": "65677861-b889-4810-a8c2-969f6e1ca78f",
   "metadata": {},
   "outputs": [],
   "source": [
    "# https://wikidocs.net/book/14314\n",
    "# teddy langchain"
   ]
  },
  {
   "cell_type": "code",
   "execution_count": 17,
   "id": "29a312ee-bd6e-4dd1-bfe8-a4946ae9b9a2",
   "metadata": {
    "scrolled": true
   },
   "outputs": [
    {
     "name": "stdout",
     "output_type": "stream",
     "text": [
      "Requirement already satisfied: langchain-community in /Users/databiz/miniconda3/envs/llm/lib/python3.8/site-packages (0.2.1)\n",
      "Requirement already satisfied: faiss-cpu in /Users/databiz/miniconda3/envs/llm/lib/python3.8/site-packages (1.8.0)\n",
      "Requirement already satisfied: langchain-openai in /Users/databiz/miniconda3/envs/llm/lib/python3.8/site-packages (0.1.8)\n",
      "Requirement already satisfied: tiktoken in /Users/databiz/miniconda3/envs/llm/lib/python3.8/site-packages (0.7.0)\n",
      "Requirement already satisfied: PyYAML>=5.3 in /Users/databiz/miniconda3/envs/llm/lib/python3.8/site-packages (from langchain-community) (6.0.1)\n",
      "Requirement already satisfied: SQLAlchemy<3,>=1.4 in /Users/databiz/miniconda3/envs/llm/lib/python3.8/site-packages (from langchain-community) (2.0.30)\n",
      "Requirement already satisfied: aiohttp<4.0.0,>=3.8.3 in /Users/databiz/miniconda3/envs/llm/lib/python3.8/site-packages (from langchain-community) (3.9.3)\n",
      "Requirement already satisfied: dataclasses-json<0.7,>=0.5.7 in /Users/databiz/miniconda3/envs/llm/lib/python3.8/site-packages (from langchain-community) (0.6.6)\n",
      "Requirement already satisfied: langchain<0.3.0,>=0.2.0 in /Users/databiz/miniconda3/envs/llm/lib/python3.8/site-packages (from langchain-community) (0.2.1)\n",
      "Requirement already satisfied: langchain-core<0.3.0,>=0.2.0 in /Users/databiz/miniconda3/envs/llm/lib/python3.8/site-packages (from langchain-community) (0.2.2)\n",
      "Requirement already satisfied: langsmith<0.2.0,>=0.1.0 in /Users/databiz/miniconda3/envs/llm/lib/python3.8/site-packages (from langchain-community) (0.1.57)\n",
      "Requirement already satisfied: numpy<2,>=1 in /Users/databiz/miniconda3/envs/llm/lib/python3.8/site-packages (from langchain-community) (1.24.4)\n",
      "Requirement already satisfied: requests<3,>=2 in /Users/databiz/miniconda3/envs/llm/lib/python3.8/site-packages (from langchain-community) (2.31.0)\n",
      "Requirement already satisfied: tenacity<9.0.0,>=8.1.0 in /Users/databiz/miniconda3/envs/llm/lib/python3.8/site-packages (from langchain-community) (8.2.3)\n",
      "Requirement already satisfied: openai<2.0.0,>=1.26.0 in /Users/databiz/miniconda3/envs/llm/lib/python3.8/site-packages (from langchain-openai) (1.30.5)\n",
      "Requirement already satisfied: regex>=2022.1.18 in /Users/databiz/miniconda3/envs/llm/lib/python3.8/site-packages (from tiktoken) (2023.12.25)\n",
      "Requirement already satisfied: aiosignal>=1.1.2 in /Users/databiz/miniconda3/envs/llm/lib/python3.8/site-packages (from aiohttp<4.0.0,>=3.8.3->langchain-community) (1.3.1)\n",
      "Requirement already satisfied: attrs>=17.3.0 in /Users/databiz/miniconda3/envs/llm/lib/python3.8/site-packages (from aiohttp<4.0.0,>=3.8.3->langchain-community) (23.2.0)\n",
      "Requirement already satisfied: frozenlist>=1.1.1 in /Users/databiz/miniconda3/envs/llm/lib/python3.8/site-packages (from aiohttp<4.0.0,>=3.8.3->langchain-community) (1.4.1)\n",
      "Requirement already satisfied: multidict<7.0,>=4.5 in /Users/databiz/miniconda3/envs/llm/lib/python3.8/site-packages (from aiohttp<4.0.0,>=3.8.3->langchain-community) (6.0.5)\n",
      "Requirement already satisfied: yarl<2.0,>=1.0 in /Users/databiz/miniconda3/envs/llm/lib/python3.8/site-packages (from aiohttp<4.0.0,>=3.8.3->langchain-community) (1.9.4)\n",
      "Requirement already satisfied: async-timeout<5.0,>=4.0 in /Users/databiz/miniconda3/envs/llm/lib/python3.8/site-packages (from aiohttp<4.0.0,>=3.8.3->langchain-community) (4.0.3)\n",
      "Requirement already satisfied: marshmallow<4.0.0,>=3.18.0 in /Users/databiz/miniconda3/envs/llm/lib/python3.8/site-packages (from dataclasses-json<0.7,>=0.5.7->langchain-community) (3.21.2)\n",
      "Requirement already satisfied: typing-inspect<1,>=0.4.0 in /Users/databiz/miniconda3/envs/llm/lib/python3.8/site-packages (from dataclasses-json<0.7,>=0.5.7->langchain-community) (0.9.0)\n",
      "Requirement already satisfied: langchain-text-splitters<0.3.0,>=0.2.0 in /Users/databiz/miniconda3/envs/llm/lib/python3.8/site-packages (from langchain<0.3.0,>=0.2.0->langchain-community) (0.2.0)\n",
      "Requirement already satisfied: pydantic<3,>=1 in /Users/databiz/miniconda3/envs/llm/lib/python3.8/site-packages (from langchain<0.3.0,>=0.2.0->langchain-community) (2.6.0)\n",
      "Requirement already satisfied: jsonpatch<2.0,>=1.33 in /Users/databiz/miniconda3/envs/llm/lib/python3.8/site-packages (from langchain-core<0.3.0,>=0.2.0->langchain-community) (1.33)\n",
      "Requirement already satisfied: packaging<24.0,>=23.2 in /Users/databiz/miniconda3/envs/llm/lib/python3.8/site-packages (from langchain-core<0.3.0,>=0.2.0->langchain-community) (23.2)\n",
      "Requirement already satisfied: orjson<4.0.0,>=3.9.14 in /Users/databiz/miniconda3/envs/llm/lib/python3.8/site-packages (from langsmith<0.2.0,>=0.1.0->langchain-community) (3.10.3)\n",
      "Requirement already satisfied: anyio<5,>=3.5.0 in /Users/databiz/miniconda3/envs/llm/lib/python3.8/site-packages (from openai<2.0.0,>=1.26.0->langchain-openai) (4.2.0)\n",
      "Requirement already satisfied: distro<2,>=1.7.0 in /Users/databiz/miniconda3/envs/llm/lib/python3.8/site-packages (from openai<2.0.0,>=1.26.0->langchain-openai) (1.9.0)\n",
      "Requirement already satisfied: httpx<1,>=0.23.0 in /Users/databiz/miniconda3/envs/llm/lib/python3.8/site-packages (from openai<2.0.0,>=1.26.0->langchain-openai) (0.26.0)\n",
      "Requirement already satisfied: sniffio in /Users/databiz/miniconda3/envs/llm/lib/python3.8/site-packages (from openai<2.0.0,>=1.26.0->langchain-openai) (1.3.0)\n",
      "Requirement already satisfied: tqdm>4 in /Users/databiz/miniconda3/envs/llm/lib/python3.8/site-packages (from openai<2.0.0,>=1.26.0->langchain-openai) (4.66.1)\n",
      "Requirement already satisfied: typing-extensions<5,>=4.7 in /Users/databiz/miniconda3/envs/llm/lib/python3.8/site-packages (from openai<2.0.0,>=1.26.0->langchain-openai) (4.9.0)\n",
      "Requirement already satisfied: charset-normalizer<4,>=2 in /Users/databiz/miniconda3/envs/llm/lib/python3.8/site-packages (from requests<3,>=2->langchain-community) (3.3.2)\n",
      "Requirement already satisfied: idna<4,>=2.5 in /Users/databiz/miniconda3/envs/llm/lib/python3.8/site-packages (from requests<3,>=2->langchain-community) (3.6)\n",
      "Requirement already satisfied: urllib3<3,>=1.21.1 in /Users/databiz/miniconda3/envs/llm/lib/python3.8/site-packages (from requests<3,>=2->langchain-community) (2.1.0)\n",
      "Requirement already satisfied: certifi>=2017.4.17 in /Users/databiz/miniconda3/envs/llm/lib/python3.8/site-packages (from requests<3,>=2->langchain-community) (2023.11.17)\n",
      "Requirement already satisfied: exceptiongroup>=1.0.2 in /Users/databiz/miniconda3/envs/llm/lib/python3.8/site-packages (from anyio<5,>=3.5.0->openai<2.0.0,>=1.26.0->langchain-openai) (1.2.0)\n",
      "Requirement already satisfied: httpcore==1.* in /Users/databiz/miniconda3/envs/llm/lib/python3.8/site-packages (from httpx<1,>=0.23.0->openai<2.0.0,>=1.26.0->langchain-openai) (1.0.2)\n",
      "Requirement already satisfied: h11<0.15,>=0.13 in /Users/databiz/miniconda3/envs/llm/lib/python3.8/site-packages (from httpcore==1.*->httpx<1,>=0.23.0->openai<2.0.0,>=1.26.0->langchain-openai) (0.14.0)\n",
      "Requirement already satisfied: jsonpointer>=1.9 in /Users/databiz/miniconda3/envs/llm/lib/python3.8/site-packages (from jsonpatch<2.0,>=1.33->langchain-core<0.3.0,>=0.2.0->langchain-community) (2.4)\n",
      "Requirement already satisfied: annotated-types>=0.4.0 in /Users/databiz/miniconda3/envs/llm/lib/python3.8/site-packages (from pydantic<3,>=1->langchain<0.3.0,>=0.2.0->langchain-community) (0.6.0)\n",
      "Requirement already satisfied: pydantic-core==2.16.1 in /Users/databiz/miniconda3/envs/llm/lib/python3.8/site-packages (from pydantic<3,>=1->langchain<0.3.0,>=0.2.0->langchain-community) (2.16.1)\n",
      "Requirement already satisfied: mypy-extensions>=0.3.0 in /Users/databiz/miniconda3/envs/llm/lib/python3.8/site-packages (from typing-inspect<1,>=0.4.0->dataclasses-json<0.7,>=0.5.7->langchain-community) (1.0.0)\n",
      "Note: you may need to restart the kernel to use updated packages.\n"
     ]
    }
   ],
   "source": [
    "%pip install -U langchain-community faiss-cpu langchain-openai tiktoken"
   ]
  },
  {
   "cell_type": "code",
   "execution_count": 18,
   "id": "630900a4-9851-4a4d-922a-1e8f30c20887",
   "metadata": {},
   "outputs": [],
   "source": [
    "from langchain.indexes import VectorstoreIndexCreator\n",
    "from langchain.vectorstores import Chroma, AtlasDB, FAISS\n",
    "from langchain.document_loaders.csv_loader import CSVLoader\n",
    "from langchain.text_splitter import CharacterTextSplitter, RecursiveCharacterTextSplitter"
   ]
  },
  {
   "cell_type": "code",
   "execution_count": 19,
   "id": "1d410566-2173-4b50-8596-37082c124a8e",
   "metadata": {},
   "outputs": [
    {
     "data": {
      "text/plain": [
       "100000000"
      ]
     },
     "execution_count": 19,
     "metadata": {},
     "output_type": "execute_result"
    }
   ],
   "source": [
    "import csv\n",
    "csv.field_size_limit(100000000)\n",
    "csv.field_size_limit()"
   ]
  },
  {
   "cell_type": "code",
   "execution_count": 20,
   "id": "51fe7d5a-1495-43d7-bd90-91c66aefbdc2",
   "metadata": {},
   "outputs": [],
   "source": [
    "loader = CSVLoader(\n",
    "    file_path=\"fsi_smart_faq_ko.csv\",\n",
    "    source_column=\"Source\",\n",
    "    encoding=\"utf-8\"\n",
    ")\n",
    "context_documents = loader.load()"
   ]
  },
  {
   "cell_type": "code",
   "execution_count": 21,
   "id": "e85ccd49-b2a7-4c4b-82f7-1d96d9e27af3",
   "metadata": {},
   "outputs": [
    {
     "name": "stdout",
     "output_type": "stream",
     "text": [
      "89\n"
     ]
    },
    {
     "data": {
      "text/plain": [
       "[Document(page_content='no: 89\\nCategory: 타기관OTP 이용등록방법 알려주세요\\nInformation: 타기관에서 발급받으신 OTP가 통합OTP카드인 경우 당행에 등록하여 이용가능합니다. \\n[경로]\\n- 인터넷뱅킹 로그인→ 사용자관리→인터넷뱅킹관리→OTP이용등록  \\n- 신한 쏠(SOL) 로그인→ 전체메뉴→설정/인증→ 이용중인 보안매체선택→   OTP이용등록\\n \\n ※ OTP이용등록후 재로그인을 하셔야 새로 등록된 보안매체가 적용됩니다.\\n\\n기타 궁금하신 내용은 신한은행 고객센터 1599-8000로 문의하여 주시기 바랍니다.\\ntype: 인터넷뱅킹\\nSource: 신한은행', metadata={'source': '신한은행', 'row': 0}),\n",
       " Document(page_content='no: 88\\nCategory: 공동인증서와 금융인증서 차이점이 무엇인가요?\\nInformation: 공동인증서 (구 공인인증서)는 용도에 따라 은행/신용카드/보험용 무료 인증서와 전자거래범용(수수료 4,400원) 인증서가 있으며 유효기간은 1년입니다. \\n공동인증서는 하드디스크나 이동식디스크, 휴대폰 등 원하시는 기기에 저장해서 이용할 수 있습니다.\\n인증서를 저장한 매체에서는 인증서 비밀번호로 편리하게 이용할 수 있으나 다른 기기에서 이용하려면 기기마다 복사하거나 이동식디스크에 저장해서 휴대해야 하는 불편함이 있을 수 있습니다.\\n\\n금융인증서는 금융인증서는 금융결제원의 클라우드에 저장하여 이용하는 인증서로 발급/이용 시에 클라우드에 접속이 필요합니다.\\n금융결제원 클라우드에 연결만 가능하다면 어디서든 편리하게 이용 가능하지만, PC나 USB, 휴대폰 등 다른 기기로 복사는 불가합니다.(유효기간 3년/발급 수수료 무료)\\n※ 클라우드 계정 연결을 위해 휴대폰을 통한 ARS, SMS, 마이인포앱 인증 절차가 필요합니다.\\ntype: 인증서\\nSource: 신한은행', metadata={'source': '신한은행', 'row': 1}),\n",
       " Document(page_content='no: 87\\nCategory: 금융인증서 해외에서 발급할 수 있나요?\\nInformation: 해외에서도 인증서 발급 업무는 가능합니다. 다만, 금융인증서 저장을 위한 금융결제원 클라우드 계정 생성 및 연결이 필요한 업무로 해외연락처를 통한 ARS인증이 진행됩니다.\\ntype: 금융인증서\\nSource: 신한은행', metadata={'source': '신한은행', 'row': 2})]"
      ]
     },
     "execution_count": 21,
     "metadata": {},
     "output_type": "execute_result"
    }
   ],
   "source": [
    "print(len(context_documents))\n",
    "\n",
    "context_documents[0:3]"
   ]
  },
  {
   "cell_type": "code",
   "execution_count": 23,
   "id": "9ab9c04f-e905-448c-a6b8-70a4bf6a49b1",
   "metadata": {},
   "outputs": [
    {
     "name": "stderr",
     "output_type": "stream",
     "text": [
      "/Users/databiz/miniconda3/envs/llm/lib/python3.8/site-packages/langchain_core/_api/deprecation.py:119: LangChainDeprecationWarning: The class `OpenAIEmbeddings` was deprecated in LangChain 0.0.9 and will be removed in 0.3.0. An updated version of the class exists in the langchain-openai package and should be used instead. To use it run `pip install -U langchain-openai` and import as `from langchain_openai import OpenAIEmbeddings`.\n",
      "  warn_deprecated(\n"
     ]
    }
   ],
   "source": [
    "from langchain import PromptTemplate\n",
    "from langchain.chains.question_answering import load_qa_chain\n",
    "from langchain.chat_models import ChatOpenAI\n",
    "from langchain.embeddings import OpenAIEmbeddings\n",
    "\n",
    "openai_embeddings = OpenAIEmbeddings()\n",
    "\n",
    "index_creator = VectorstoreIndexCreator(\n",
    "    vectorstore_cls=FAISS,\n",
    "    embedding=openai_embeddings,\n",
    "    #text_splitter=CharacterTextSplitter(chunk_size=700, chunk_overlap=0),\n",
    "    #text_splitter = RecursiveCharacterTextSplitter(chunk_size=500, chunk_overlap=200), \n",
    "    text_splitter = RecursiveCharacterTextSplitter(chunk_size=800, chunk_overlap=200)\n",
    ")\n",
    "\n",
    "index = index_creator.from_loaders([loader])"
   ]
  },
  {
   "cell_type": "code",
   "execution_count": 24,
   "id": "7ad90749-6ad7-4761-852d-0589d6f774e2",
   "metadata": {},
   "outputs": [
    {
     "name": "stdout",
     "output_type": "stream",
     "text": [
      "89\n"
     ]
    },
    {
     "data": {
      "text/plain": [
       "[Document(page_content='no: 89\\nCategory: 타기관OTP 이용등록방법 알려주세요\\nInformation: 타기관에서 발급받으신 OTP가 통합OTP카드인 경우 당행에 등록하여 이용가능합니다. \\n[경로]\\n- 인터넷뱅킹 로그인→ 사용자관리→인터넷뱅킹관리→OTP이용등록  \\n- 신한 쏠(SOL) 로그인→ 전체메뉴→설정/인증→ 이용중인 보안매체선택→   OTP이용등록\\n \\n ※ OTP이용등록후 재로그인을 하셔야 새로 등록된 보안매체가 적용됩니다.\\n\\n기타 궁금하신 내용은 신한은행 고객센터 1599-8000로 문의하여 주시기 바랍니다.\\ntype: 인터넷뱅킹\\nSource: 신한은행', metadata={'source': '신한은행', 'row': 0}),\n",
       " Document(page_content='no: 88\\nCategory: 공동인증서와 금융인증서 차이점이 무엇인가요?\\nInformation: 공동인증서 (구 공인인증서)는 용도에 따라 은행/신용카드/보험용 무료 인증서와 전자거래범용(수수료 4,400원) 인증서가 있으며 유효기간은 1년입니다. \\n공동인증서는 하드디스크나 이동식디스크, 휴대폰 등 원하시는 기기에 저장해서 이용할 수 있습니다.\\n인증서를 저장한 매체에서는 인증서 비밀번호로 편리하게 이용할 수 있으나 다른 기기에서 이용하려면 기기마다 복사하거나 이동식디스크에 저장해서 휴대해야 하는 불편함이 있을 수 있습니다.\\n\\n금융인증서는 금융인증서는 금융결제원의 클라우드에 저장하여 이용하는 인증서로 발급/이용 시에 클라우드에 접속이 필요합니다.\\n금융결제원 클라우드에 연결만 가능하다면 어디서든 편리하게 이용 가능하지만, PC나 USB, 휴대폰 등 다른 기기로 복사는 불가합니다.(유효기간 3년/발급 수수료 무료)\\n※ 클라우드 계정 연결을 위해 휴대폰을 통한 ARS, SMS, 마이인포앱 인증 절차가 필요합니다.\\ntype: 인증서\\nSource: 신한은행', metadata={'source': '신한은행', 'row': 1}),\n",
       " Document(page_content='no: 87\\nCategory: 금융인증서 해외에서 발급할 수 있나요?\\nInformation: 해외에서도 인증서 발급 업무는 가능합니다. 다만, 금융인증서 저장을 위한 금융결제원 클라우드 계정 생성 및 연결이 필요한 업무로 해외연락처를 통한 ARS인증이 진행됩니다.\\ntype: 금융인증서\\nSource: 신한은행', metadata={'source': '신한은행', 'row': 2})]"
      ]
     },
     "execution_count": 24,
     "metadata": {},
     "output_type": "execute_result"
    }
   ],
   "source": [
    "print(len(context_documents))\n",
    "\n",
    "context_documents[0:3]"
   ]
  },
  {
   "cell_type": "code",
   "execution_count": 25,
   "id": "0f6d9c4e-39ee-4f6c-b297-4d409985a5db",
   "metadata": {},
   "outputs": [],
   "source": [
    "# Save\n",
    "index.vectorstore.save_local(\"fsi_faq_indexer_ko\")"
   ]
  },
  {
   "cell_type": "code",
   "execution_count": 26,
   "id": "1cefa2a1-1a6a-4b34-a73b-41dfeb6208a3",
   "metadata": {},
   "outputs": [],
   "source": [
    "# Read\n",
    "index_ = FAISS.load_local(\"fsi_faq_indexer_ko\", openai_embeddings, allow_dangerous_deserialization=True)"
   ]
  },
  {
   "cell_type": "code",
   "execution_count": 27,
   "id": "5f6e029a-7b78-4829-a114-b43576fcff50",
   "metadata": {},
   "outputs": [],
   "source": [
    "def filter_and_remove_score(res, cutoff_score = 200, variance=1.3):\n",
    "    # Get the lowest score\n",
    "    lowest_score = min(score for doc, score in res)\n",
    "    print('lowest_score : ', lowest_score)\n",
    "    # If the lowest score is over 200, return an empty list\n",
    "    if lowest_score > cutoff_score:\n",
    "        return []\n",
    "    # Calculate the upper bound for scores\n",
    "    upper_bound = lowest_score * variance\n",
    "\n",
    "    \n",
    "    # Filter the list and remove the score\n",
    "    res = [doc for doc, score in res if score <= upper_bound]\n",
    "\n",
    "    return res\n",
    "\n",
    "\n",
    "def get_search_answer (query, bank=\"\", k=1):\n",
    "    search_query = query\n",
    "    similar_docs = get_similiar_docs(search_query, k=k, bank=bank)\n",
    "    llm_query = '검색된 내용을 no. 별로 요약한 문장으로 알려줘.'\n",
    "    if not similar_docs:\n",
    "        llm_query = query\n",
    "\n",
    "    llm_answer = chain.run(input_documents=similar_docs, question=llm_query)\n",
    "    return llm_answer\n",
    "\n",
    "def get_similiar_docs(query, k=1, fetch_k=50, score=True, bank=\"\"):\n",
    "\n",
    "    #print (query)\n",
    "    \n",
    "    if score:         \n",
    "        similar_docs = index_.similarity_search_with_score(\n",
    "            query,\n",
    "            k=k,\n",
    "            fetch_k=fetch_k,\n",
    "            filter=dict(source=bank)\n",
    "        )\n",
    "        similar_docs=filter_and_remove_score(similar_docs)\n",
    "    else:        \n",
    "        similar_docs = index_.similarity_search(\n",
    "            query,\n",
    "            k=k,\n",
    "            fetch_k=fetch_k,\n",
    "            filter=dict(source=bank)\n",
    "        )\n",
    "        \n",
    "    return similar_docs"
   ]
  },
  {
   "cell_type": "code",
   "execution_count": 28,
   "id": "dede9622-a8a9-40a2-a6ca-3db4d511369c",
   "metadata": {},
   "outputs": [],
   "source": [
    "def get_answer(query, bank=\"\", k=1):\n",
    "                \n",
    "    search_query = query\n",
    "    \n",
    "    similar_docs = get_similiar_docs(search_query, k=k, bank=bank)\n",
    "    \n",
    "    print(\"similar_docs : \", similar_docs)\n",
    "    llm_query = ''+query+' Category에 대한 Information을 찾아서 설명해주세요.'\n",
    "    \n",
    "    if not similar_docs:\n",
    "        llm_query = query\n",
    "\n",
    "    answer = chain.run(input_documents=similar_docs, question=llm_query)\n",
    "    \n",
    "    return answer"
   ]
  },
  {
   "cell_type": "code",
   "execution_count": 29,
   "id": "da5dcdb8-d7c8-4517-9842-ed891d63c581",
   "metadata": {},
   "outputs": [
    {
     "name": "stderr",
     "output_type": "stream",
     "text": [
      "/Users/databiz/miniconda3/envs/llm/lib/python3.8/site-packages/langchain_core/_api/deprecation.py:119: LangChainDeprecationWarning: The class `ChatOpenAI` was deprecated in LangChain 0.0.10 and will be removed in 0.3.0. An updated version of the class exists in the langchain-openai package and should be used instead. To use it run `pip install -U langchain-openai` and import as `from langchain_openai import ChatOpenAI`.\n",
      "  warn_deprecated(\n",
      "/Users/databiz/miniconda3/envs/llm/lib/python3.8/site-packages/langchain_core/_api/deprecation.py:119: LangChainDeprecationWarning: The method `Chain.run` was deprecated in langchain 0.1.0 and will be removed in 0.3.0. Use invoke instead.\n",
      "  warn_deprecated(\n"
     ]
    },
    {
     "name": "stdout",
     "output_type": "stream",
     "text": [
      "\n",
      "\n",
      "\u001b[1m> Entering new StuffDocumentsChain chain...\u001b[0m\n",
      "\n",
      "\n",
      "\u001b[1m> Entering new LLMChain chain...\u001b[0m\n",
      "Prompt after formatting:\n",
      "\u001b[32;1m\u001b[1;3m||SPEPERATOR||안녕하세요\u001b[0m\n",
      "\n",
      "\u001b[1m> Finished chain.\u001b[0m\n",
      "\n",
      "\u001b[1m> Finished chain.\u001b[0m\n"
     ]
    },
    {
     "data": {
      "text/plain": [
       "'안녕하세요! 무엇을 도와드릴까요?'"
      ]
     },
     "execution_count": 29,
     "metadata": {},
     "output_type": "execute_result"
    }
   ],
   "source": [
    "llm = ChatOpenAI()\n",
    "seperator = \"||SPEPERATOR||\"\n",
    "\n",
    "prompt_template = ''.join([\"{context}\", seperator, \"{question}\"])\n",
    "PROMPT = PromptTemplate(template=prompt_template, input_variables=[\"context\", \"question\"])\n",
    "chain = load_qa_chain(llm=llm, chain_type=\"stuff\", prompt=PROMPT, verbose=True)\n",
    "\n",
    "chain.run(input_documents='', question='안녕하세요')"
   ]
  },
  {
   "cell_type": "code",
   "execution_count": 30,
   "id": "b2bd284a-c766-49fe-86f6-ab9e2b107ca8",
   "metadata": {},
   "outputs": [
    {
     "name": "stdout",
     "output_type": "stream",
     "text": [
      "lowest_score :  0.25762394\n",
      "similar_docs :  [Document(page_content='no: 89\\nCategory: 타기관OTP 이용등록방법 알려주세요\\nInformation: 타기관에서 발급받으신 OTP가 통합OTP카드인 경우 당행에 등록하여 이용가능합니다. \\n[경로]\\n- 인터넷뱅킹 로그인→ 사용자관리→인터넷뱅킹관리→OTP이용등록  \\n- 신한 쏠(SOL) 로그인→ 전체메뉴→설정/인증→ 이용중인 보안매체선택→   OTP이용등록\\n \\n ※ OTP이용등록후 재로그인을 하셔야 새로 등록된 보안매체가 적용됩니다.\\n\\n기타 궁금하신 내용은 신한은행 고객센터 1599-8000로 문의하여 주시기 바랍니다.\\ntype: 인터넷뱅킹\\nSource: 신한은행', metadata={'source': '신한은행', 'row': 0}), Document(page_content='no: 80\\nCategory: 모바일 OTP 사용하고 있는데 인터넷뱅킹에서는 어떻게 이용하는건가요?\\nInformation: 인터넷뱅킹 거래시 보안매체 입력단계에 [인증요청] 버튼 클릭하면 핸드폰으로 푸시메세지가 전달됩니다. \\n푸시메세지 터치하여 모바일 OTP 비밀번호 6자리 입력, 인증처리 완료후 인터넷뱅킹에서 이후의 절차를 진행하시면 됩니다.\\n※ 스마트폰에 모바일 OTP 푸시(PUSH) 메세지가 오지 않는 경우 메뉴 직접 실행 \\n- 신한 쏠(SOL) [로그인 하지 않음]> 전체메뉴> 설정/인증> 보안매체 전체보기> 모바일OTP> 인증\\n기타 궁금하신 내용은 신한은행 고객센터 1599-8000로 문의하여 주시기 바랍니다.\\ntype: 인터넷뱅킹\\nSource: 신한은행', metadata={'source': '신한은행', 'row': 9})]\n",
      "\n",
      "\n",
      "\u001b[1m> Entering new StuffDocumentsChain chain...\u001b[0m\n",
      "\n",
      "\n",
      "\u001b[1m> Entering new LLMChain chain...\u001b[0m\n",
      "Prompt after formatting:\n",
      "\u001b[32;1m\u001b[1;3mno: 89\n",
      "Category: 타기관OTP 이용등록방법 알려주세요\n",
      "Information: 타기관에서 발급받으신 OTP가 통합OTP카드인 경우 당행에 등록하여 이용가능합니다. \n",
      "[경로]\n",
      "- 인터넷뱅킹 로그인→ 사용자관리→인터넷뱅킹관리→OTP이용등록  \n",
      "- 신한 쏠(SOL) 로그인→ 전체메뉴→설정/인증→ 이용중인 보안매체선택→   OTP이용등록\n",
      " \n",
      " ※ OTP이용등록후 재로그인을 하셔야 새로 등록된 보안매체가 적용됩니다.\n",
      "\n",
      "기타 궁금하신 내용은 신한은행 고객센터 1599-8000로 문의하여 주시기 바랍니다.\n",
      "type: 인터넷뱅킹\n",
      "Source: 신한은행\n",
      "\n",
      "no: 80\n",
      "Category: 모바일 OTP 사용하고 있는데 인터넷뱅킹에서는 어떻게 이용하는건가요?\n",
      "Information: 인터넷뱅킹 거래시 보안매체 입력단계에 [인증요청] 버튼 클릭하면 핸드폰으로 푸시메세지가 전달됩니다. \n",
      "푸시메세지 터치하여 모바일 OTP 비밀번호 6자리 입력, 인증처리 완료후 인터넷뱅킹에서 이후의 절차를 진행하시면 됩니다.\n",
      "※ 스마트폰에 모바일 OTP 푸시(PUSH) 메세지가 오지 않는 경우 메뉴 직접 실행 \n",
      "- 신한 쏠(SOL) [로그인 하지 않음]> 전체메뉴> 설정/인증> 보안매체 전체보기> 모바일OTP> 인증\n",
      "기타 궁금하신 내용은 신한은행 고객센터 1599-8000로 문의하여 주시기 바랍니다.\n",
      "type: 인터넷뱅킹\n",
      "Source: 신한은행||SPEPERATOR||타기관OTP 등록 방법 알려주세요 Category에 대한 Information을 찾아서 설명해주세요.\u001b[0m\n",
      "\n",
      "\u001b[1m> Finished chain.\u001b[0m\n",
      "\n",
      "\u001b[1m> Finished chain.\u001b[0m\n",
      "question: 타기관OTP 등록 방법 알려주세요\n",
      "==========================\n",
      "\n",
      "\n",
      "response: \n",
      " 타기관에서 발급받은 OTP를 신한은행의 인터넷뱅킹에 등록하려면 다음과 같은 절차를 따르면 됩니다:\n",
      "1. 인터넷뱅킹에 접속한 후 사용자관리 메뉴로 이동합니다.\n",
      "2. 인터넷뱅킹관리 항목에서 OTP이용등록을 선택합니다.\n",
      "3. 해당 페이지에서 타기관에서 발급받은 OTP를 등록합니다.\n",
      "\n",
      "등록이 완료되면 새로운 보안매체가 적용되기 위해 재로그인을 해야 합니다. 만약 추가적인 도움이 필요하다면 신한은행 고객센터인 1599-8000으로 문의하시면 됩니다.\n",
      "CPU times: user 32 ms, sys: 6 ms, total: 38 ms\n",
      "Wall time: 5.91 s\n"
     ]
    }
   ],
   "source": [
    "%%time\n",
    "question = \"타기관OTP 등록 방법 알려주세요\"\n",
    "response = get_answer(question, bank=\"신한은행\", k=3)\n",
    "\n",
    "print (f'question: {question}')\n",
    "print('==========================')\n",
    "print('\\n')\n",
    "print (f'response: \\n {response}')"
   ]
  }
 ],
 "metadata": {
  "kernelspec": {
   "display_name": "Python 3 (ipykernel)",
   "language": "python",
   "name": "python3"
  },
  "language_info": {
   "codemirror_mode": {
    "name": "ipython",
    "version": 3
   },
   "file_extension": ".py",
   "mimetype": "text/x-python",
   "name": "python",
   "nbconvert_exporter": "python",
   "pygments_lexer": "ipython3",
   "version": "3.8.18"
  }
 },
 "nbformat": 4,
 "nbformat_minor": 5
}
